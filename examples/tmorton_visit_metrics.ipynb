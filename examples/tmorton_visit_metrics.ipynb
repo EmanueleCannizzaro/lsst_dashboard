{
 "cells": [
  {
   "cell_type": "code",
   "execution_count": null,
   "metadata": {},
   "outputs": [],
   "source": [
    "from lsst.daf.persistence import Butler\n",
    "\n",
    "butler = Butler('/project/tmorton/tickets/DM-20015/RC2_w18')\n",
    "# butler = Butler('/project/tmorton/tickets/DM-19684')"
   ]
  },
  {
   "cell_type": "code",
   "execution_count": null,
   "metadata": {},
   "outputs": [],
   "source": [
    "tract = 9615\n",
    "filt = 'HSC-I'\n",
    "coaddParq = butler.get('analysisCoaddTable_forced', tract=tract, filter=filt)\n",
    "visitParq = butler.get('analysisVisitTable', visit=1258, tract=tract, filter=filt)"
   ]
  },
  {
   "cell_type": "code",
   "execution_count": null,
   "metadata": {},
   "outputs": [],
   "source": [
    "metric_columns = ['base_Footprint_nPix', 'Gaussian-PSF_magDiff_mmag',\n",
    "                  'CircAper12pix-PSF_magDiff_mmag', 'Kron-PSF_magDiff_mmag',\n",
    "                  'CModel-PSF_magDiff_mmag', 'traceSdss_pixel',\n",
    "                  'traceSdss_fwhm_pixel', 'psfTraceSdssDiff_percent',\n",
    "                  'e1ResidsSdss_milli', 'e2ResidsSdss_milli',\n",
    "                  'deconvMoments', 'compareUnforced_Gaussian_magDiff_mmag',\n",
    "                  'compareUnforced_CircAper12pix_magDiff_mmag',\n",
    "                  'compareUnforced_Kron_magDiff_mmag',\n",
    "                  'compareUnforced_CModel_magDiff_mmag']\n",
    "\n",
    "flag_columns = ['deblend_nChild',\n",
    "                'calib_psf_used', 'calib_psf_candidate', 'calib_photometry_reserved',\n",
    "                'merge_measurement_i2', 'merge_measurement_i', 'merge_measurement_r2',\n",
    "                'merge_measurement_r', 'merge_measurement_z', 'merge_measurement_y',\n",
    "                'merge_measurement_g', 'merge_measurement_N921', 'merge_measurement_N816',\n",
    "                'merge_measurement_N1010', 'merge_measurement_N387', 'merge_measurement_N515',\n",
    "                'qaBad_flag']"
   ]
  },
  {
   "cell_type": "code",
   "execution_count": null,
   "metadata": {},
   "outputs": [],
   "source": [
    "# These are the metrics/flags that *are* available in the visit tables\n",
    "\n",
    "for c in metric_columns + flag_columns:\n",
    "    if c in visitParq.columns:\n",
    "        print(c)"
   ]
  },
  {
   "cell_type": "code",
   "execution_count": null,
   "metadata": {},
   "outputs": [],
   "source": [
    "# These are the metrics/flags that are *unavailable* in the visit tables\n",
    "\n",
    "for c in metric_columns + flag_columns:\n",
    "    if c not in visitParq.columns:\n",
    "        print(c)"
   ]
  },
  {
   "cell_type": "code",
   "execution_count": null,
   "metadata": {},
   "outputs": [],
   "source": [
    "visitMatchParq = butler.get('visitMatchTable', tract=tract, filter=filt)\n",
    "match_df = visitMatchParq.toDataFrame()"
   ]
  },
  {
   "cell_type": "code",
   "execution_count": null,
   "metadata": {},
   "outputs": [],
   "source": [
    "# Select just the \"psf_used\" IDs to use as a demo subset\n",
    "\n",
    "from lsst.qa.explorer.functors import Column, Index\n",
    "\n",
    "psfUsed = Column('calib_psf_used')(coaddParq)\n",
    "psfUsedIds = Index()(coaddParq)[psfUsed]\n",
    "visit_psfUsedIds = match_df.loc[psfUsedIds]['matchId']"
   ]
  },
  {
   "cell_type": "code",
   "execution_count": null,
   "metadata": {},
   "outputs": [],
   "source": [
    "visit_psfUsedIds.head()"
   ]
  },
  {
   "cell_type": "code",
   "execution_count": null,
   "metadata": {},
   "outputs": [],
   "source": [
    "all_visits = list(visit_psfUsedIds.columns)\n",
    "all_visits.sort()\n",
    "\n",
    "all_visitParqs = {v: butler.get('analysisVisitTable', visit=v, tract=tract, filter=filt) for v in all_visits}"
   ]
  },
  {
   "cell_type": "code",
   "execution_count": null,
   "metadata": {},
   "outputs": [],
   "source": [
    "import pandas as pd\n",
    "\n",
    "def get_allvisits_df(visits, coaddIds, column):\n",
    "    \"\"\"Returns a df of all values from a particular column in all visits, with each column being a visit\n",
    "    \"\"\"\n",
    "    df = pd.DataFrame(index=coaddIds, columns=visits)\n",
    "    for v in visits:\n",
    "        s = all_visitParqs[v].toDataFrame(columns=[column])\n",
    "        ids = visit_psfUsedIds[v]\n",
    "        ok = ids.notnull()\n",
    "        df.loc[coaddIds[ok], v] = s.loc[ids[ok]].values.squeeze()  # don't know why this has weird dimensions    \n",
    "    return df"
   ]
  },
  {
   "cell_type": "code",
   "execution_count": null,
   "metadata": {},
   "outputs": [],
   "source": [
    "gausspsf_df = get_allvisits_df(all_visits, psfUsedIds, 'Gaussian-PSF_magDiff_mmag')"
   ]
  },
  {
   "cell_type": "code",
   "execution_count": null,
   "metadata": {},
   "outputs": [],
   "source": [
    "gausspsf_df"
   ]
  },
  {
   "cell_type": "code",
   "execution_count": null,
   "metadata": {},
   "outputs": [],
   "source": [
    "import holoviews as hv\n",
    "hv.extension('bokeh')"
   ]
  },
  {
   "cell_type": "code",
   "execution_count": null,
   "metadata": {},
   "outputs": [],
   "source": [
    "%%opts Curve [width=800, height=300, tools=['hover']] \n",
    "\n",
    "mean_df = gausspsf_df.mean()\n",
    "std_df = gausspsf_df.std()\n",
    "\n",
    "mean_points = [(str(v), mean_df.loc[v]) for v in all_visits]\n",
    "std_points = [(str(v), std_df.loc[v]) for v in all_visits]\n",
    "\n",
    "hv.Curve(mean_points, label='mean (gauss-psf)') * hv.Curve(std_points, label='std (gauss-psf)')\n"
   ]
  },
  {
   "cell_type": "code",
   "execution_count": null,
   "metadata": {},
   "outputs": [],
   "source": []
  }
 ],
 "metadata": {
  "kernelspec": {
   "display_name": "LSST",
   "language": "python",
   "name": "lsst"
  },
  "language_info": {
   "codemirror_mode": {
    "name": "ipython",
    "version": 3
   },
   "file_extension": ".py",
   "mimetype": "text/x-python",
   "name": "python",
   "nbconvert_exporter": "python",
   "pygments_lexer": "ipython3",
   "version": "3.7.2"
  }
 },
 "nbformat": 4,
 "nbformat_minor": 2
}
