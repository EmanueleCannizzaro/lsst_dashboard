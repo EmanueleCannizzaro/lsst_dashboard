{
 "cells": [
  {
   "cell_type": "markdown",
   "metadata": {},
   "source": [
    "`lsst_dashboard.star_map` uses `holoviews` to show a positional map of the ✨, 🌌, and others."
   ]
  }
 ],
 "metadata": {},
 "nbformat": 4,
 "nbformat_minor": 2
}