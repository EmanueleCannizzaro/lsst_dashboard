{
 "cells": [
  {
   "cell_type": "markdown",
   "metadata": {},
   "source": [
    "`lsst_dashboard.details` queries features in a table and creates a unit that uses `vdom` and `pandas` to make an interactive table interface to show an expanded view of the feature information.  This may subclass the overview."
   ]
  }
 ],
 "metadata": {},
 "nbformat": 4,
 "nbformat_minor": 2
}