{
 "cells": [
  {
   "cell_type": "markdown",
   "metadata": {},
   "source": [
    "## Building LSST Tilesets using Datashader"
   ]
  },
  {
   "cell_type": "markdown",
   "metadata": {},
   "source": [
    "Datashader provides `render_tiles` which is a utility function for creating tilesets from arbitrary datashader pipelines."
   ]
  },
  {
   "cell_type": "code",
   "execution_count": null,
   "metadata": {},
   "outputs": [],
   "source": [
    "import pandas as pd\n",
    "import datashader as ds\n",
    "import numpy as np\n",
    "\n",
    "from datashader.tiles import render_tiles"
   ]
  },
  {
   "cell_type": "markdown",
   "metadata": {},
   "source": [
    "### Unreleased Datashader Code (remove after next datashader release)"
   ]
  },
  {
   "cell_type": "code",
   "execution_count": null,
   "metadata": {
    "collapsed": true
   },
   "outputs": [],
   "source": [
    "#from datashader.tiles import tile_previewer\n",
    "#the import above is not yet released in datashader, so I'm including it here...\n",
    "def tile_previewer(full_extent, tileset_url,\n",
    "                   output_dir=None,\n",
    "                   filename='index.html',\n",
    "                   title='Datashader Tileset',\n",
    "                   min_zoom=0, max_zoom=40,\n",
    "                   height=None, width=None,\n",
    "                   **kwargs):\n",
    "    '''Helper function for creating a simple Bokeh figure with\n",
    "    a WMTS Tile Source.\n",
    "\n",
    "    Notes\n",
    "    -----\n",
    "    - if you don't supply height / width, stretch_both sizing_mode is used.\n",
    "    - supply an output_dir to write figure to disk.\n",
    "    '''\n",
    "\n",
    "    try:\n",
    "        from bokeh.plotting import figure\n",
    "        from bokeh.models.tiles import WMTSTileSource\n",
    "        from bokeh.io import output_file, save\n",
    "        from os import path\n",
    "    except ImportError:\n",
    "        raise ImportError('conda install bokeh to enable creation of simple tile viewer')\n",
    "\n",
    "    if output_dir:\n",
    "        output_file(filename=path.join(output_dir, filename),\n",
    "                    title=title)\n",
    "\n",
    "    xmin, ymin, xmax, ymax = full_extent\n",
    "\n",
    "    if height and width:\n",
    "        p = figure(width=width, height=height,\n",
    "                   x_range=(xmin, xmax),\n",
    "                   y_range=(ymin, ymax),\n",
    "                   tools=\"pan,wheel_zoom,reset\", **kwargs)\n",
    "    else:\n",
    "        p = figure(sizing_mode='stretch_both',\n",
    "                   x_range=(xmin, xmax),\n",
    "                   y_range=(ymin, ymax),\n",
    "                   tools=\"pan,wheel_zoom,reset\", **kwargs)\n",
    "\n",
    "    p.background_fill_color = 'black'\n",
    "    p.grid.grid_line_alpha = 0\n",
    "    p.axis.visible = True\n",
    "\n",
    "    tile_source = WMTSTileSource(url=tileset_url,\n",
    "                                 min_zoom=min_zoom,\n",
    "                                 max_zoom=max_zoom)\n",
    "    p.add_tile(tile_source, render_parents=False)\n",
    "\n",
    "    if output_dir:\n",
    "        save(p)\n",
    "\n",
    "    return p"
   ]
  },
  {
   "cell_type": "markdown",
   "metadata": {
    "collapsed": true
   },
   "source": [
    "### Initial data preprocessing"
   ]
  },
  {
   "cell_type": "code",
   "execution_count": null,
   "metadata": {},
   "outputs": [],
   "source": [
    "INPUT_FILE = '9615_forced.parq'\n",
    "TILESET_NAME = 'test_set'\n",
    "X_FIELD = 'coord_ra'\n",
    "Y_FIELD = 'coord_dec'\n",
    "\n",
    "# TODO: add fields necessary for psfmag calc.\n",
    "df = pd.read_parquet(INPUT_FILE, columns=[X_FIELD, Y_FIELD,])\n",
    "df.rename(columns={X_FIELD:'x', Y_FIELD:'y'}, inplace=True)\n",
    "\n",
    "# TODO: add psfmag calc.\n",
    "# df['psfmag'] = calc_psfmag\n",
    "\n",
    "full_extent_of_data = (np.nanmin(df.x), np.nanmin(df.y),\n",
    "                       np.nanmax(df.x), np.nanmax(df.y))\n",
    "\n",
    "df.info()"
   ]
  },
  {
   "cell_type": "markdown",
   "metadata": {},
   "source": [
    "## Define Tiling Component Functions"
   ]
  },
  {
   "cell_type": "markdown",
   "metadata": {},
   "source": [
    "### Create `load_data_func`\n",
    "- accepts `x_range` and `y_range` arguments which correspond to the ranges of the supertile being rendered.\n",
    "- returns a dataframe-like object (pd.Dataframe / dask.Dataframe)\n",
    "- this example `load_data_func` creates a pandas dataframe with `x` and `y` fields sampled from a wald distribution "
   ]
  },
  {
   "cell_type": "code",
   "execution_count": null,
   "metadata": {
    "collapsed": true
   },
   "outputs": [],
   "source": [
    "import pandas as pd\n",
    "import numpy as np\n",
    "\n",
    "def load_data_func(x_range, y_range):\n",
    "    global df\n",
    "    return df.loc[df['x'].between(*x_range) & df['y'].between(*y_range)]"
   ]
  },
  {
   "cell_type": "markdown",
   "metadata": {},
   "source": [
    "### Create `rasterize_func`\n",
    "- accepts `df`, `x_range`, `y_range`, `height`, `width` arguments which correspond to the data, ranges, and plot dimensions of the supertile being rendered.\n",
    "- returns an `xr.DataArray` object representing the aggregate."
   ]
  },
  {
   "cell_type": "code",
   "execution_count": null,
   "metadata": {
    "collapsed": true
   },
   "outputs": [],
   "source": [
    "import datashader as ds\n",
    "\n",
    "def rasterize_func(df, x_range, y_range, height, width):\n",
    "    # aggregate\n",
    "    cvs = ds.Canvas(x_range=x_range, y_range=y_range,\n",
    "                    plot_height=height, plot_width=width)\n",
    "    agg = cvs.points(df, 'x', 'y')\n",
    "    return agg"
   ]
  },
  {
   "cell_type": "markdown",
   "metadata": {},
   "source": [
    "### Create `shader_func`\n",
    "- accepts `agg (xr.DataArray)`, `span (tuple(min, max))`.  The span argument can be used to control color mapping / auto-ranging across supertiles.\n",
    "- returns an `ds.Image` object representing the shaded image."
   ]
  },
  {
   "cell_type": "code",
   "execution_count": null,
   "metadata": {
    "collapsed": true
   },
   "outputs": [],
   "source": [
    "import datashader.transfer_functions as tf\n",
    "from datashader.colors import viridis\n",
    "\n",
    "def shader_func(agg, span=None):\n",
    "    img = tf.shade(agg, cmap=['black','white'], span=span, how='log')\n",
    "    img = tf.set_background(img, 'black')\n",
    "    return img"
   ]
  },
  {
   "cell_type": "markdown",
   "metadata": {},
   "source": [
    "### Create `post_render_func`\n",
    "- accepts `img `, `extras` arguments which correspond to the output PIL.Image before it is write to disk (or S3), and addtional image properties.\n",
    "- returns image `(PIL.Image)`\n",
    "- this is a good place to run any non-datashader-specific logic on each output tile."
   ]
  },
  {
   "cell_type": "code",
   "execution_count": null,
   "metadata": {
    "collapsed": true
   },
   "outputs": [],
   "source": [
    "def post_render_func(img, **kwargs):\n",
    "    info = \"x={},y={},z={}\".format(kwargs['x'], kwargs['y'], kwargs['z'])\n",
    "    return img"
   ]
  },
  {
   "cell_type": "markdown",
   "metadata": {},
   "source": [
    "## Render tiles to local filesystem"
   ]
  },
  {
   "cell_type": "code",
   "execution_count": null,
   "metadata": {
    "collapsed": true
   },
   "outputs": [],
   "source": [
    "full_extent_of_data = (np.nanmin(df.x), np.nanmin(df.y),\n",
    "                       np.nanmax(df.x), np.nanmax(df.y))\n",
    "\n",
    "output_path = '/Users/bcollins/temp/9615_forced.tiles/'\n",
    "results = render_tiles(full_extent_of_data,\n",
    "                       range(25, 39),\n",
    "                       load_data_func=load_data_func,\n",
    "                       rasterize_func=rasterize_func,\n",
    "                       shader_func=shader_func,\n",
    "                       post_render_func=post_render_func,\n",
    "                       output_path=output_path)"
   ]
  },
  {
   "cell_type": "markdown",
   "metadata": {},
   "source": [
    "### Preview the tileset using Bokeh\n",
    "- Browse to the tile output directory and start an http server:\n",
    "\n",
    "```bash\n",
    "$> cd test_tiles_output\n",
    "$> python -m http.server\n",
    "\n",
    "Starting up http-server, serving ./\n",
    "Available on:\n",
    "  http://127.0.0.1:8080\n",
    "  http://192.168.1.7:8080\n",
    "Hit CTRL-C to stop the server\n",
    "```\n",
    "\n",
    "- build a `bokeh.plotting.Figure`"
   ]
  },
  {
   "cell_type": "code",
   "execution_count": null,
   "metadata": {},
   "outputs": [],
   "source": [
    "from bokeh.io import output_notebook, show\n",
    "output_notebook()\n",
    "\n",
    "tileset_url = 'https://lsst-tilesets.s3.amazonaws.com/9615-forced-test/{Z}/{X}/{Y}.png'\n",
    "\n",
    "fig = tile_previewer(full_extent=full_extent_of_data,\n",
    "                     height=800, width=800,\n",
    "                     tileset_url=tileset_url)\n",
    "show(fig)"
   ]
  },
  {
   "cell_type": "markdown",
   "metadata": {},
   "source": [
    "## Render tiles to Amazon Simple Storage Service (S3)\n",
    "\n",
    "To render tiles directly to S3, you only need to use the `s3://` protocol in your `output_path` argument\n",
    "\n",
    "- Requires AWS Access / Secret Keys with appropriate IAM permissions for uploading to S3.\n",
    "- Requires extra `boto3` dependency:\n",
    "```bash\n",
    "conda install boto3\n",
    "```"
   ]
  },
  {
   "cell_type": "markdown",
   "metadata": {},
   "source": [
    "### Configuring credentials\n",
    "\n",
    "- Quoting [`boto3 documentation regarding credential handling`](https://boto3.readthedocs.io/en/latest/guide/configuration.html):\n",
    "\n",
    "> The mechanism in which boto3 looks for credentials is to search through a list of possible locations and stop as soon as it finds credentials. The order in which Boto3 searches for credentials is:\n",
    "1. ~~Passing credentials as parameters in the boto.client() method~~\n",
    "- ~~Passing credentials as parameters when creating a Session object~~\n",
    "- **Environment variables**\n",
    "- **Shared credential file (~/.aws/credentials)**\n",
    "- **AWS config file (~/.aws/config)**\n",
    "- **Assume Role provider**\n",
    "- **Boto2 config file (/etc/boto.cfg and ~/.boto)**\n",
    "- **Instance metadata service on an Amazon EC2 instance that has an IAM role configured**.\n",
    "\n",
    "- Datashader's `render_tiles` function supports only credential search locations highlighted in bold above\n",
    "- **NOTE**:  all tiles written to S3 are marked with `public-read` ACL settings."
   ]
  },
  {
   "cell_type": "markdown",
   "metadata": {},
   "source": [
    "#### Setup tile bucket using AWS CLI\n",
    "\n",
    "```bash\n",
    "$> aws s3 mb s3://datashader-tiles-testing/\n",
    "```"
   ]
  },
  {
   "cell_type": "code",
   "execution_count": null,
   "metadata": {
    "collapsed": true
   },
   "outputs": [],
   "source": [
    "output_path = 's3://lsst-tilesets/9615-forced-test/'\n",
    "results = render_tiles(full_extent_of_data,\n",
    "                       range(25, 39),\n",
    "                       load_data_func=load_data_func,\n",
    "                       rasterize_func=rasterize_func,\n",
    "                       shader_func=shader_func,\n",
    "                       post_render_func=post_render_func,\n",
    "                       output_path=output_path)"
   ]
  },
  {
   "cell_type": "markdown",
   "metadata": {},
   "source": [
    "### Preview S3 Tiles"
   ]
  },
  {
   "cell_type": "code",
   "execution_count": null,
   "metadata": {
    "collapsed": true
   },
   "outputs": [],
   "source": [
    "xmin, ymin, xmax, ymax = full_extent_of_data\n",
    "\n",
    "p = figure(width=800, height=800, \n",
    "           x_range=(int(-20e6), int(20e6)),\n",
    "           y_range=(int(-20e6), int(20e6)),\n",
    "           tools=\"pan,wheel_zoom,reset\")\n",
    "p.axis.visible = False\n",
    "p.background_fill_color = 'black'\n",
    "p.grid.grid_line_alpha = 0\n",
    "p.add_tile(WMTSTileSource(url=\"https://datashader-tiles-testing.s3.amazonaws.com/wald_tiles/{Z}/{X}/{Y}.png\"),\n",
    "           render_parents=False)\n",
    "show(p)"
   ]
  }
 ],
 "metadata": {
  "kernelspec": {
   "display_name": "Python 3",
   "language": "python",
   "name": "python3"
  },
  "language_info": {
   "codemirror_mode": {
    "name": "ipython",
    "version": 3
   },
   "file_extension": ".py",
   "mimetype": "text/x-python",
   "name": "python",
   "nbconvert_exporter": "python",
   "pygments_lexer": "ipython3",
   "version": "3.6.6"
  }
 },
 "nbformat": 4,
 "nbformat_minor": 2
}
