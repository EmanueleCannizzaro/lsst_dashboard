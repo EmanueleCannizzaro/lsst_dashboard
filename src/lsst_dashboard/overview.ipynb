{
 "cells": [
  {
   "cell_type": "markdown",
   "metadata": {},
   "source": [
    "`lsst_dashboard.overview` queries a table of values and creates a unit that uses `vdom` and `pandas` to make an interactive table interface to explore the features of the datasets."
   ]
  }
 ],
 "metadata": {},
 "nbformat": 4,
 "nbformat_minor": 2
}