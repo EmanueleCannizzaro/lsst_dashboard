{
 "cells": [
  {
   "cell_type": "markdown",
   "metadata": {},
   "source": [
    "`lsst_dashboard.visits` creates a time series view with `holoviews` to qualify the samples in the visits."
   ]
  }
 ],
 "metadata": {},
 "nbformat": 4,
 "nbformat_minor": 2
}