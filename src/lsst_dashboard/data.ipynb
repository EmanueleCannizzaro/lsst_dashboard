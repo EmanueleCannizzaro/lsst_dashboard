{
 "cells": [
  {
   "cell_type": "markdown",
   "metadata": {},
   "source": [
    "`lsst_dashboard.data` creates a database of tables from the `lsst_dashboard` using `ibis`.  Each unit will ask for a specific selection from the `ibis` database.  When a new query is required we make a new unit."
   ]
  }
 ],
 "metadata": {},
 "nbformat": 4,
 "nbformat_minor": 2
}