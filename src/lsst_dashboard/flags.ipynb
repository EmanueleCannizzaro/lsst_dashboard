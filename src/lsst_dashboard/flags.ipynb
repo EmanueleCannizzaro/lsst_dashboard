{
 "cells": [
  {
   "cell_type": "markdown",
   "metadata": {},
   "source": [
    "`lsst_dashboard.flags` uses `vdom` to create an interactive table to toggle flags in the data selection."
   ]
  }
 ],
 "metadata": {},
 "nbformat": 4,
 "nbformat_minor": 2
}