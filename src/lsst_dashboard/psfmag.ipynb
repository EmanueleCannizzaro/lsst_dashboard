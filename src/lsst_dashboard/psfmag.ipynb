{
 "cells": [
  {
   "cell_type": "markdown",
   "metadata": {},
   "source": [
    "`lsst_dashboard.psfmag` uses `holoviews` to create a contour map of values for features of interest."
   ]
  }
 ],
 "metadata": {},
 "nbformat": 4,
 "nbformat_minor": 2
}